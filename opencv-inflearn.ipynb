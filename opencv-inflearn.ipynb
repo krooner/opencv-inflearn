{
 "cells": [
  {
   "cell_type": "markdown",
   "id": "73a491e7-c7e8-40f7-90ea-71f2fc30d835",
   "metadata": {},
   "source": [
    "# OpenCV\n",
    "\n",
    "```python\n",
    "pip install opencv-python\n",
    "```"
   ]
  },
  {
   "cell_type": "code",
   "execution_count": 1,
   "id": "731f8fdc-b807-40ee-9302-ce46d2da245e",
   "metadata": {},
   "outputs": [
    {
     "data": {
      "text/plain": [
       "'4.8.1'"
      ]
     },
     "execution_count": 1,
     "metadata": {},
     "output_type": "execute_result"
    }
   ],
   "source": [
    "import cv2\n",
    "cv2.__version__"
   ]
  },
  {
   "cell_type": "markdown",
   "id": "f53a2469-4aea-4743-8f76-c92a62bfcbe8",
   "metadata": {},
   "source": [
    "## 1. 이미지 출력\n",
    "\n",
    "[사용한 이미지: dog_image](https://pixabay.com/photos/maltese-dog-puppy-small-dog-1123016/)\n",
    "\n",
    "```python\n",
    ".imread(url) # url에 해당하는 파일 읽어오기\n",
    ".imshow(title_name, img) # title_name이라는 창에 img를 표시\n",
    ".waitKey(ms) # ms 동안 사용자 키 입력 대기\n",
    ".destroyAllWindows() # 모든 창 닫기\n",
    "```"
   ]
  },
  {
   "cell_type": "code",
   "execution_count": 2,
   "id": "45cf363a-f5d4-4e1f-81ae-9d94255ed575",
   "metadata": {},
   "outputs": [
    {
     "data": {
      "text/plain": [
       "-1"
      ]
     },
     "execution_count": 2,
     "metadata": {},
     "output_type": "execute_result"
    }
   ],
   "source": [
    "img = cv2.imread('dog.jpeg')\n",
    "cv2.imshow('img', img)\n",
    "cv2.waitKey(0)\n",
    "cv2.destroyAllWindows()\n",
    "cv2.waitKey(1)"
   ]
  },
  {
   "cell_type": "markdown",
   "id": "dd17ec27-0395-4794-a86c-4afa9c86d84c",
   "metadata": {},
   "source": [
    "### 읽기 옵션\n",
    "1. `cv2.IMREAD_COLOR`: 컬러 이미지로 불러오기, 투명 영역은 무시 (default)\n",
    "2. `cv2.IMREAD_GRAYSCALE`: 흑백 이미지로 불러오기\n",
    "3. `cv2.IMREAD_UNCHANGED`: 투명 영역까지 포함해서 이미지를 불러옴"
   ]
  },
  {
   "cell_type": "code",
   "execution_count": 4,
   "id": "380bcd29-6bf0-4665-b974-b0cf2bddd2f7",
   "metadata": {},
   "outputs": [
    {
     "data": {
      "text/plain": [
       "-1"
      ]
     },
     "execution_count": 4,
     "metadata": {},
     "output_type": "execute_result"
    }
   ],
   "source": [
    "import cv2\n",
    "img_color = cv2.imread('dog.jpeg', cv2.IMREAD_COLOR)\n",
    "img_gray = cv2.imread('dog.jpeg', cv2.IMREAD_GRAYSCALE)\n",
    "img_unchanged = cv2.imread('dog.jpeg', cv2.IMREAD_UNCHANGED)\n",
    "\n",
    "cv2.imshow('img_color', img_color)\n",
    "cv2.imshow('img_gray', img_gray)\n",
    "cv2.imshow('img_unchanged', img_unchanged)\n",
    "\n",
    "cv2.waitKey(0)\n",
    "cv2.destroyAllWindows()\n",
    "cv2.waitKey(1)"
   ]
  },
  {
   "cell_type": "markdown",
   "id": "959ed389-b6b1-4bb2-85d9-51c79e857dc4",
   "metadata": {},
   "source": [
    "### Shape\n",
    "이미지의 height, width, channel 정보"
   ]
  },
  {
   "cell_type": "code",
   "execution_count": 5,
   "id": "0f134504-9b93-4ae6-8f7b-5be683e277f8",
   "metadata": {},
   "outputs": [
    {
     "data": {
      "text/plain": [
       "(425, 640, 3)"
      ]
     },
     "execution_count": 5,
     "metadata": {},
     "output_type": "execute_result"
    }
   ],
   "source": [
    "import cv2\n",
    "img = cv2.imread('dog.jpeg')\n",
    "img.shape # (H, W, C)"
   ]
  },
  {
   "cell_type": "markdown",
   "id": "e2be94da-dc8c-4774-9814-3fb0c4f0e091",
   "metadata": {},
   "source": [
    "## 2. 동영상 출력\n",
    "\n",
    "[사용한 동영상: cat_video](https://www.pexels.com/video/person-feeding-a-cat-7515833/)\n",
    "\n",
    "```python\n",
    "cap = cv2.VideoCapture('cat.mp4')\n",
    "cap.isOpened() # 동영상 파일이 올바로 열렸는지\n",
    "ret, frame = cap.read() # ret: 성공 여부, frame: 받아온 이미지/프레임\n",
    "cap.release() # 자원 해제\n",
    ".destroyAllWindows() # 모든 창 닫기\n",
    "\n",
    ".waitKey(ms) # ms 값에 따라 영상 재생 속도를 조절할 수 있다.\n",
    "```"
   ]
  },
  {
   "cell_type": "code",
   "execution_count": 7,
   "id": "4125e7b7-0cd0-4095-8882-24276982fc3e",
   "metadata": {},
   "outputs": [
    {
     "name": "stdout",
     "output_type": "stream",
     "text": [
      "No more frame to take.\n"
     ]
    },
    {
     "data": {
      "text/plain": [
       "-1"
      ]
     },
     "execution_count": 7,
     "metadata": {},
     "output_type": "execute_result"
    }
   ],
   "source": [
    "import cv2\n",
    "cap = cv2.VideoCapture('cat.mp4')\n",
    "\n",
    "while cap.isOpened():\n",
    "    ret, frame = cap.read()\n",
    "    if not ret:\n",
    "        print(\"No more frame to take.\")\n",
    "        break\n",
    "\n",
    "    cv2.imshow('video', frame)\n",
    "\n",
    "    if cv2.waitKey(25) == ord('q'):\n",
    "        print(\"Terminate\")\n",
    "        break\n",
    "\n",
    "cap.release()\n",
    "cv2.destroyAllWindows()\n",
    "cv2.waitKey(1)"
   ]
  },
  {
   "cell_type": "markdown",
   "id": "bff2ab51-0e51-49a5-ba5f-4a05ed40fabb",
   "metadata": {},
   "source": [
    "## 3. 카메라 출력"
   ]
  },
  {
   "cell_type": "code",
   "execution_count": 2,
   "id": "36d4c7f3-4b85-45e4-8c23-3a9f5be6b6f8",
   "metadata": {},
   "outputs": [
    {
     "name": "stderr",
     "output_type": "stream",
     "text": [
      "OpenCV: AVFoundation didn't find any attached Video Input Devices!\n",
      "OpenCV: camera failed to properly initialize!\n"
     ]
    },
    {
     "data": {
      "text/plain": [
       "-1"
      ]
     },
     "execution_count": 2,
     "metadata": {},
     "output_type": "execute_result"
    }
   ],
   "source": [
    "import cv2\n",
    "cap = cv2.VideoCapture(0) # O번째 카메라 장치 (device_id)\n",
    "\n",
    "if not cap.isOpened(): # 카메라가 잘 열리지 않는 경우\n",
    "    exit()\n",
    "\n",
    "while True:\n",
    "    ret, frame = cap.read()\n",
    "    if not ret: break\n",
    "\n",
    "    cv2.imshow(\"camera\", frame)\n",
    "    if cv2.waitKey(1) == ord('q'): break\n",
    "\n",
    "cap.release()\n",
    "cv2.destroyAllWindows()\n",
    "cv2.waitKey(1)"
   ]
  },
  {
   "cell_type": "markdown",
   "id": "b896fed5-7b47-4c52-ba58-3a4823134054",
   "metadata": {},
   "source": [
    "## 도형 그리기"
   ]
  },
  {
   "cell_type": "markdown",
   "id": "1c17c35d-d491-4b6f-a430-1173e90a8925",
   "metadata": {},
   "source": [
    "### 빈 스케치북 만들기"
   ]
  },
  {
   "cell_type": "code",
   "execution_count": 4,
   "id": "63832995-6fb4-42d7-b205-e31a2cac0956",
   "metadata": {},
   "outputs": [
    {
     "data": {
      "text/plain": [
       "-1"
      ]
     },
     "execution_count": 4,
     "metadata": {},
     "output_type": "execute_result"
    }
   ],
   "source": [
    "import cv2\n",
    "import numpy as np\n",
    "\n",
    "# (H=480, W=640, C=3)\n",
    "img = np.zeros((480, 640, 3), dtype=np.uint8)\n",
    "img[:] = (255, 255, 255)\n",
    "\n",
    "cv2.imshow(\"img\", img)\n",
    "\n",
    "cv2.waitKey(0)\n",
    "cv2.destroyAllWindows()\n",
    "cv2.waitKey(1)"
   ]
  },
  {
   "cell_type": "markdown",
   "id": "b098ff96-59c1-4b44-9069-c3ad7567ee5a",
   "metadata": {},
   "source": [
    "### 일부 영역 색칠"
   ]
  },
  {
   "cell_type": "code",
   "execution_count": 5,
   "id": "88d07d9a-f600-41ac-938e-b49795461e70",
   "metadata": {},
   "outputs": [
    {
     "data": {
      "text/plain": [
       "-1"
      ]
     },
     "execution_count": 5,
     "metadata": {},
     "output_type": "execute_result"
    }
   ],
   "source": [
    "import cv2\n",
    "import numpy as np\n",
    "\n",
    "\n",
    "img = np.zeros((480, 640, 3), dtype=np.uint8)\n",
    "img[100:200, 200:300] = (255, 255, 255)\n",
    "\n",
    "cv2.imshow(\"img\", img)\n",
    "\n",
    "cv2.waitKey(0)\n",
    "cv2.destroyAllWindows()\n",
    "cv2.waitKey(1)"
   ]
  },
  {
   "cell_type": "markdown",
   "id": "ed46c0de-9216-4691-bb08-fcb27fa819ac",
   "metadata": {},
   "source": [
    "### 직선\n",
    "직선의 종류\n",
    "1. `cv2.LINE_4` : 상하좌우 네 방향으로 연결된 선\n",
    "2. `cv2.LINE_8` : 대각선을 포함한 여덟 방향으로 연결된 선 (default)\n",
    "3. `cv2.LINE_AA` : 부드러운 선 (anti-aliasing)"
   ]
  },
  {
   "cell_type": "code",
   "execution_count": 3,
   "id": "70effa56-63d5-497b-80bc-5271317f14a6",
   "metadata": {},
   "outputs": [
    {
     "data": {
      "text/plain": [
       "-1"
      ]
     },
     "execution_count": 3,
     "metadata": {},
     "output_type": "execute_result"
    }
   ],
   "source": [
    "import cv2\n",
    "import numpy as np\n",
    "\n",
    "img = np.zeros((480, 640, 3), dtype=np.uint8)\n",
    "\n",
    "COLOR = (0, 255, 255) # BGR (Yellow)\n",
    "THICKNESS = 3\n",
    "\n",
    "\n",
    "cv2.line(img, (50, 100), (400, 50), COLOR, THICKNESS, cv2.LINE_8)\n",
    "\"\"\"\n",
    "    where_to_draw, start_point, end_point, color, thickness, line_type\n",
    "\"\"\"\n",
    "\n",
    "cv2.line(img, (50, 200), (400, 150), COLOR, THICKNESS, cv2.LINE_4)\n",
    "cv2.line(img, (50, 300), (400, 250), COLOR, THICKNESS, cv2.LINE_AA)\n",
    "\n",
    "cv2.imshow('img', img)\n",
    "cv2.waitKey(0)\n",
    "cv2.destroyAllWindows()\n",
    "cv2.waitKey(1)"
   ]
  },
  {
   "cell_type": "markdown",
   "id": "7b95456c-7834-42eb-aac2-202de9e23612",
   "metadata": {},
   "source": [
    "### 원"
   ]
  },
  {
   "cell_type": "code",
   "execution_count": 5,
   "id": "394a7031-f2cf-417a-bca6-a15f287e48f6",
   "metadata": {},
   "outputs": [
    {
     "data": {
      "text/plain": [
       "-1"
      ]
     },
     "execution_count": 5,
     "metadata": {},
     "output_type": "execute_result"
    }
   ],
   "source": [
    "import cv2\n",
    "import numpy as np\n",
    "\n",
    "img = np.zeros((480, 640, 3), dtype=np.uint8)\n",
    "\n",
    "COLOR = (255, 255, 0) # BGR (Cyan)\n",
    "RADIUS = 50\n",
    "THICKNESS = 10\n",
    "\n",
    "\n",
    "cv2.circle(img, (200, 100), RADIUS, COLOR, THICKNESS, cv2.LINE_AA) # 속이 빈 원\n",
    "\"\"\"\n",
    "    where_to_draw, center, radius, color, thickness, line_type\n",
    "\"\"\"\n",
    "cv2.circle(img, (400, 100), RADIUS, COLOR, cv2.FILLED, cv2.LINE_AA) # 속이 찬 원\n",
    "\n",
    "cv2.imshow('img', img)\n",
    "cv2.waitKey(0)\n",
    "cv2.destroyAllWindows()\n",
    "cv2.waitKey(1)"
   ]
  },
  {
   "cell_type": "markdown",
   "id": "b58ed9b8-dbf3-44ff-82d4-6c896c361326",
   "metadata": {},
   "source": [
    "### 사각형"
   ]
  },
  {
   "cell_type": "code",
   "execution_count": 23,
   "id": "1f88e906-3316-406d-949d-ee7412c20ed1",
   "metadata": {},
   "outputs": [
    {
     "data": {
      "text/plain": [
       "-1"
      ]
     },
     "execution_count": 23,
     "metadata": {},
     "output_type": "execute_result"
    }
   ],
   "source": [
    "import cv2\n",
    "import numpy as np\n",
    "\n",
    "img = np.zeros((480, 640, 3), dtype=np.uint8)\n",
    "\n",
    "COLOR = (0, 0, 255) # BGR (RED)\n",
    "THICKNESS = 3\n",
    "\n",
    "cv2.rectangle(img, (100, 200), (300, 400), COLOR, THICKNESS, cv2.LINE_AA)\n",
    "\"\"\"\n",
    "    where_to_draw, point_list, is_closed, color, thickness, line_type\n",
    "\"\"\"\n",
    "cv2.rectangle(img, (350, 200), (550, 400), COLOR, cv2.FILLED, cv2.LINE_AA)\n",
    "\n",
    "cv2.imshow('img', img)\n",
    "cv2.waitKey(0)\n",
    "cv2.destroyAllWindows()\n",
    "cv2.waitKey(1)"
   ]
  },
  {
   "cell_type": "markdown",
   "id": "521902cd-883f-42d2-b8d7-d11ace1e6280",
   "metadata": {},
   "source": [
    "### 다각형"
   ]
  },
  {
   "cell_type": "code",
   "execution_count": null,
   "id": "5fe6c45a-982c-42f7-a143-f1cffc4b158d",
   "metadata": {},
   "outputs": [],
   "source": [
    "import cv2\n",
    "import numpy as np\n",
    "\n",
    "img = np.zeros((480, 640, 3), dtype=np.uint8)\n",
    "\n",
    "COLOR = (0, 0, 255) # BGR (RED)\n",
    "THICKNESS = 3\n",
    "\n",
    "pts1 = np.array([[100, 100], [200, 100], [100, 200]])\n",
    "pts2 = np.array([[200, 100], [300, 100], [300, 200]])\n",
    "\n",
    "# cv2.polylines(img, [pts1], True, COLOR, THICKNESS, cv2.LINE_AA)\n",
    "\"\"\"\n",
    "    where_to_draw, point_list, is_closed, color, thickness, line_type\n",
    "\"\"\"\n",
    "# cv2.polylines(img, [pts2], True, COLOR, THICKNESS, cv2.LINE_AA)\n",
    "\n",
    "cv2.polylines(img, [pts1, pts2], True, COLOR, THICKNESS, cv2.LINE_AA) # 속이 빈 다각형\n",
    "\n",
    "pts3 = np.array([[[100, 300], [200, 300], [100, 400]],[[200, 300], [300, 300], [300, 400]]])\n",
    "cv2.fillPoly(img, pts3, COLOR, cv2.LINE_AA) # 속이 빈 다각형\n",
    "\"\"\"\n",
    "    where_to_draw, point_list, color, line_type\n",
    "\"\"\"\n",
    "\n",
    "cv2.imshow('img', img)\n",
    "cv2.waitKey(0)\n",
    "cv2.destroyAllWindows()\n",
    "cv2.waitKey(1)"
   ]
  },
  {
   "cell_type": "markdown",
   "id": "2c25ded5-3a79-44a2-a954-2497d9ee3e71",
   "metadata": {},
   "source": [
    "## 텍스트"
   ]
  },
  {
   "cell_type": "markdown",
   "id": "8d6ca27d-fc13-4766-b842-c1e06b292f31",
   "metadata": {},
   "source": [
    "### OpenCV에서 사용하는 글꼴 종류\n",
    "1. `cv2.FONT_HERSHEY_SIMPLEX`: 보통 크기의 sans-serif\n",
    "2. `cv2.FONT_HERSHEY_PLAIN`: 작은 크기의 sans-serif\n",
    "3. `cv2.FONT_HERSHEY_SCRIPT_SIMPLEX`: 필기체 스타일 글꼴\n",
    "4. `cv2.FONT_HERSHEY_TRIPLEX`: 보통 크기의 serif\n",
    "5. `cv2.FONT_ITALIC`: 기울임"
   ]
  },
  {
   "cell_type": "code",
   "execution_count": 28,
   "id": "303d61db-a929-44df-8362-5511fbe7fe9f",
   "metadata": {},
   "outputs": [
    {
     "data": {
      "text/plain": [
       "-1"
      ]
     },
     "execution_count": 28,
     "metadata": {},
     "output_type": "execute_result"
    }
   ],
   "source": [
    "import cv2\n",
    "import numpy as np\n",
    "\n",
    "img = np.zeros((480, 640, 3), dtype=np.uint8)\n",
    "\n",
    "SCALE = 1\n",
    "COLOR = (255, 255, 255)\n",
    "THICKNESS = 1\n",
    "\n",
    "\n",
    "cv2.putText(img, \"Simplex\", (20, 50), cv2.FONT_HERSHEY_SIMPLEX, SCALE, COLOR, THICKNESS)\n",
    "\"\"\"\n",
    "    where_to_put, input_text, start_point, font_type, scale, color, thickness\n",
    "\"\"\"\n",
    "cv2.putText(img, \"Plain\", (20, 150), cv2.FONT_HERSHEY_PLAIN, SCALE, COLOR, THICKNESS)\n",
    "cv2.putText(img, \"Script Simplex\", (20, 250), cv2.FONT_HERSHEY_SCRIPT_SIMPLEX, SCALE, COLOR, THICKNESS)\n",
    "cv2.putText(img, \"Triplex\", (20, 350), cv2.FONT_HERSHEY_TRIPLEX, SCALE, COLOR, THICKNESS)\n",
    "cv2.putText(img, \"Italic\", (20, 450), cv2.FONT_HERSHEY_TRIPLEX | cv2.FONT_ITALIC, SCALE, COLOR, THICKNESS)\n",
    "\n",
    "\n",
    "\n",
    "cv2.imshow(\"img\", img)\n",
    "\n",
    "cv2.waitKey(0)\n",
    "cv2.destroyAllWindows()\n",
    "cv2.waitKey(1)"
   ]
  },
  {
   "cell_type": "markdown",
   "id": "d6917559-cf0a-4b6b-a97e-c56b2e9b4362",
   "metadata": {},
   "source": [
    "### 한글 우회 방법\n",
    "OpenCV에서는 한글을 지원하지 않는다. 대신 PIL 라이브러리로 우회할 수 있다."
   ]
  },
  {
   "cell_type": "code",
   "execution_count": 35,
   "id": "cf6adae7-717d-4fd4-8720-2e91ddf5549d",
   "metadata": {},
   "outputs": [
    {
     "name": "stdout",
     "output_type": "stream",
     "text": [
      "Collecting pillow\n",
      "  Downloading Pillow-10.0.1-cp39-cp39-macosx_11_0_arm64.whl (3.3 MB)\n",
      "\u001b[K     |████████████████████████████████| 3.3 MB 10.8 MB/s eta 0:00:01\n",
      "\u001b[?25hInstalling collected packages: pillow\n",
      "Successfully installed pillow-10.0.1\n",
      "\u001b[33mWARNING: You are using pip version 21.2.4; however, version 23.2.1 is available.\n",
      "You should consider upgrading via the '/Users/kisookim/Repositories/opencv-inflearn/opencv/bin/python3 -m pip install --upgrade pip' command.\u001b[0m\n"
     ]
    }
   ],
   "source": [
    "!pip install pillow"
   ]
  },
  {
   "cell_type": "code",
   "execution_count": 36,
   "id": "e1da2b15-4bca-40d0-ac16-fa845af41bdf",
   "metadata": {},
   "outputs": [
    {
     "ename": "OSError",
     "evalue": "cannot open resource",
     "output_type": "error",
     "traceback": [
      "\u001b[0;31m---------------------------------------------------------------------------\u001b[0m",
      "\u001b[0;31mOSError\u001b[0m                                   Traceback (most recent call last)",
      "Cell \u001b[0;32mIn[36], line 19\u001b[0m\n\u001b[1;32m     15\u001b[0m FONT_SIZE \u001b[38;5;241m=\u001b[39m \u001b[38;5;241m30\u001b[39m\n\u001b[1;32m     16\u001b[0m COLOR \u001b[38;5;241m=\u001b[39m (\u001b[38;5;241m255\u001b[39m, \u001b[38;5;241m255\u001b[39m, \u001b[38;5;241m255\u001b[39m)\n\u001b[0;32m---> 19\u001b[0m img \u001b[38;5;241m=\u001b[39m \u001b[43mmyPutText\u001b[49m\u001b[43m(\u001b[49m\u001b[43mimg\u001b[49m\u001b[43m,\u001b[49m\u001b[43m \u001b[49m\u001b[38;5;124;43m\"\u001b[39;49m\u001b[38;5;124;43m테스트다\u001b[39;49m\u001b[38;5;124;43m\"\u001b[39;49m\u001b[43m,\u001b[49m\u001b[43m \u001b[49m\u001b[43m(\u001b[49m\u001b[38;5;241;43m20\u001b[39;49m\u001b[43m,\u001b[49m\u001b[43m \u001b[49m\u001b[38;5;241;43m50\u001b[39;49m\u001b[43m)\u001b[49m\u001b[43m,\u001b[49m\u001b[43m \u001b[49m\u001b[43mFONT_SIZE\u001b[49m\u001b[43m,\u001b[49m\u001b[43m \u001b[49m\u001b[43mCOLOR\u001b[49m\u001b[43m)\u001b[49m\n\u001b[1;32m     21\u001b[0m cv2\u001b[38;5;241m.\u001b[39mimshow(\u001b[38;5;124m\"\u001b[39m\u001b[38;5;124mimg\u001b[39m\u001b[38;5;124m\"\u001b[39m, img)\n\u001b[1;32m     23\u001b[0m cv2\u001b[38;5;241m.\u001b[39mwaitKey(\u001b[38;5;241m0\u001b[39m)\n",
      "Cell \u001b[0;32mIn[36], line 9\u001b[0m, in \u001b[0;36mmyPutText\u001b[0;34m(src, text, pos, font_size, font_color)\u001b[0m\n\u001b[1;32m      7\u001b[0m img_pil \u001b[38;5;241m=\u001b[39m Image\u001b[38;5;241m.\u001b[39mfromarray(src)\n\u001b[1;32m      8\u001b[0m draw \u001b[38;5;241m=\u001b[39m ImageDraw\u001b[38;5;241m.\u001b[39mDraw(img_pil)\n\u001b[0;32m----> 9\u001b[0m font \u001b[38;5;241m=\u001b[39m \u001b[43mImageFont\u001b[49m\u001b[38;5;241;43m.\u001b[39;49m\u001b[43mtruetype\u001b[49m\u001b[43m(\u001b[49m\u001b[38;5;124;43m'\u001b[39;49m\u001b[38;5;124;43mfonts/guilm.ttc\u001b[39;49m\u001b[38;5;124;43m'\u001b[39;49m\u001b[43m,\u001b[49m\u001b[43m \u001b[49m\u001b[43mfont_size\u001b[49m\u001b[43m)\u001b[49m\n\u001b[1;32m     10\u001b[0m draw\u001b[38;5;241m.\u001b[39mtext(pos, text, font\u001b[38;5;241m=\u001b[39mfont, fill\u001b[38;5;241m=\u001b[39mfont_color)\n\u001b[1;32m     11\u001b[0m \u001b[38;5;28;01mreturn\u001b[39;00m np\u001b[38;5;241m.\u001b[39marray(img_pil)\n",
      "File \u001b[0;32m~/Repositories/opencv-inflearn/opencv/lib/python3.9/site-packages/PIL/ImageFont.py:791\u001b[0m, in \u001b[0;36mtruetype\u001b[0;34m(font, size, index, encoding, layout_engine)\u001b[0m\n\u001b[1;32m    788\u001b[0m     \u001b[38;5;28;01mreturn\u001b[39;00m FreeTypeFont(font, size, index, encoding, layout_engine)\n\u001b[1;32m    790\u001b[0m \u001b[38;5;28;01mtry\u001b[39;00m:\n\u001b[0;32m--> 791\u001b[0m     \u001b[38;5;28;01mreturn\u001b[39;00m \u001b[43mfreetype\u001b[49m\u001b[43m(\u001b[49m\u001b[43mfont\u001b[49m\u001b[43m)\u001b[49m\n\u001b[1;32m    792\u001b[0m \u001b[38;5;28;01mexcept\u001b[39;00m \u001b[38;5;167;01mOSError\u001b[39;00m:\n\u001b[1;32m    793\u001b[0m     \u001b[38;5;28;01mif\u001b[39;00m \u001b[38;5;129;01mnot\u001b[39;00m is_path(font):\n",
      "File \u001b[0;32m~/Repositories/opencv-inflearn/opencv/lib/python3.9/site-packages/PIL/ImageFont.py:788\u001b[0m, in \u001b[0;36mtruetype.<locals>.freetype\u001b[0;34m(font)\u001b[0m\n\u001b[1;32m    787\u001b[0m \u001b[38;5;28;01mdef\u001b[39;00m \u001b[38;5;21mfreetype\u001b[39m(font):\n\u001b[0;32m--> 788\u001b[0m     \u001b[38;5;28;01mreturn\u001b[39;00m \u001b[43mFreeTypeFont\u001b[49m\u001b[43m(\u001b[49m\u001b[43mfont\u001b[49m\u001b[43m,\u001b[49m\u001b[43m \u001b[49m\u001b[43msize\u001b[49m\u001b[43m,\u001b[49m\u001b[43m \u001b[49m\u001b[43mindex\u001b[49m\u001b[43m,\u001b[49m\u001b[43m \u001b[49m\u001b[43mencoding\u001b[49m\u001b[43m,\u001b[49m\u001b[43m \u001b[49m\u001b[43mlayout_engine\u001b[49m\u001b[43m)\u001b[49m\n",
      "File \u001b[0;32m~/Repositories/opencv-inflearn/opencv/lib/python3.9/site-packages/PIL/ImageFont.py:226\u001b[0m, in \u001b[0;36mFreeTypeFont.__init__\u001b[0;34m(self, font, size, index, encoding, layout_engine)\u001b[0m\n\u001b[1;32m    224\u001b[0m                 load_from_bytes(f)\n\u001b[1;32m    225\u001b[0m             \u001b[38;5;28;01mreturn\u001b[39;00m\n\u001b[0;32m--> 226\u001b[0m     \u001b[38;5;28mself\u001b[39m\u001b[38;5;241m.\u001b[39mfont \u001b[38;5;241m=\u001b[39m \u001b[43mcore\u001b[49m\u001b[38;5;241;43m.\u001b[39;49m\u001b[43mgetfont\u001b[49m\u001b[43m(\u001b[49m\n\u001b[1;32m    227\u001b[0m \u001b[43m        \u001b[49m\u001b[43mfont\u001b[49m\u001b[43m,\u001b[49m\u001b[43m \u001b[49m\u001b[43msize\u001b[49m\u001b[43m,\u001b[49m\u001b[43m \u001b[49m\u001b[43mindex\u001b[49m\u001b[43m,\u001b[49m\u001b[43m \u001b[49m\u001b[43mencoding\u001b[49m\u001b[43m,\u001b[49m\u001b[43m \u001b[49m\u001b[43mlayout_engine\u001b[49m\u001b[38;5;241;43m=\u001b[39;49m\u001b[43mlayout_engine\u001b[49m\n\u001b[1;32m    228\u001b[0m \u001b[43m    \u001b[49m\u001b[43m)\u001b[49m\n\u001b[1;32m    229\u001b[0m \u001b[38;5;28;01melse\u001b[39;00m:\n\u001b[1;32m    230\u001b[0m     load_from_bytes(font)\n",
      "\u001b[0;31mOSError\u001b[0m: cannot open resource"
     ]
    }
   ],
   "source": [
    "import cv2\n",
    "import numpy as np\n",
    "# PIL (python image library)\n",
    "from PIL import ImageFont, ImageDraw, Image\n",
    "\n",
    "def myPutText(src, text, pos, font_size, font_color):\n",
    "    img_pil = Image.fromarray(src)\n",
    "    draw = ImageDraw.Draw(img_pil)\n",
    "    font = ImageFont.truetype('fonts/guilm.ttc', font_size)\n",
    "    draw.text(pos, text, font=font, fill=font_color)\n",
    "    return np.array(img_pil)\n",
    "\n",
    "img = np.zeros((480, 640, 3), dtype=np.uint8)\n",
    "\n",
    "FONT_SIZE = 30\n",
    "COLOR = (255, 255, 255)\n",
    "\n",
    "\n",
    "img = myPutText(img, \"테스트다\", (20, 50), FONT_SIZE, COLOR)\n",
    "\n",
    "cv2.imshow(\"img\", img)\n",
    "\n",
    "cv2.waitKey(0)\n",
    "cv2.destroyAllWindows()\n",
    "cv2.waitKey(1)"
   ]
  },
  {
   "cell_type": "code",
   "execution_count": null,
   "id": "6a648056-2525-4da1-93be-e8a3ef10f65d",
   "metadata": {},
   "outputs": [],
   "source": []
  }
 ],
 "metadata": {
  "kernelspec": {
   "display_name": "Python 3 (ipykernel)",
   "language": "python",
   "name": "python3"
  },
  "language_info": {
   "codemirror_mode": {
    "name": "ipython",
    "version": 3
   },
   "file_extension": ".py",
   "mimetype": "text/x-python",
   "name": "python",
   "nbconvert_exporter": "python",
   "pygments_lexer": "ipython3",
   "version": "3.9.6"
  }
 },
 "nbformat": 4,
 "nbformat_minor": 5
}
