{
 "cells": [
  {
   "cell_type": "markdown",
   "id": "73a491e7-c7e8-40f7-90ea-71f2fc30d835",
   "metadata": {},
   "source": [
    "# OpenCV\n",
    "\n",
    "```python\n",
    "pip install opencv-python\n",
    "```"
   ]
  },
  {
   "cell_type": "code",
   "execution_count": null,
   "id": "731f8fdc-b807-40ee-9302-ce46d2da245e",
   "metadata": {},
   "outputs": [],
   "source": [
    "import cv2\n",
    "cv2.__version__"
   ]
  },
  {
   "cell_type": "markdown",
   "id": "f53a2469-4aea-4743-8f76-c92a62bfcbe8",
   "metadata": {},
   "source": [
    "## 1. 이미지 출력\n",
    "\n",
    "[사용한 이미지: dog_image](https://pixabay.com/photos/maltese-dog-puppy-small-dog-1123016/)\n",
    "\n",
    "```python\n",
    ".imread(url) # url에 해당하는 파일 읽어오기\n",
    ".imshow(title_name, img) # title_name이라는 창에 img를 표시\n",
    ".waitKey(ms) # ms 동안 사용자 키 입력 대기\n",
    ".destroyAllWindows() # 모든 창 닫기\n",
    "```"
   ]
  },
  {
   "cell_type": "code",
   "execution_count": 2,
   "id": "45cf363a-f5d4-4e1f-81ae-9d94255ed575",
   "metadata": {},
   "outputs": [
    {
     "data": {
      "text/plain": [
       "-1"
      ]
     },
     "execution_count": 2,
     "metadata": {},
     "output_type": "execute_result"
    }
   ],
   "source": [
    "img = cv2.imread('dog.jpeg')\n",
    "cv2.imshow('img', img)\n",
    "cv2.waitKey(0)\n",
    "cv2.destroyAllWindows()\n",
    "cv2.waitKey(1)"
   ]
  },
  {
   "cell_type": "markdown",
   "id": "dd17ec27-0395-4794-a86c-4afa9c86d84c",
   "metadata": {},
   "source": [
    "### 읽기 옵션\n",
    "1. `cv2.IMREAD_COLOR`: 컬러 이미지로 불러오기, 투명 영역은 무시 (default)\n",
    "2. `cv2.IMREAD_GRAYSCALE`: 흑백 이미지로 불러오기\n",
    "3. `cv2.IMREAD_UNCHANGED`: 투명 영역까지 포함해서 이미지를 불러옴"
   ]
  },
  {
   "cell_type": "code",
   "execution_count": 4,
   "id": "380bcd29-6bf0-4665-b974-b0cf2bddd2f7",
   "metadata": {},
   "outputs": [
    {
     "data": {
      "text/plain": [
       "-1"
      ]
     },
     "execution_count": 4,
     "metadata": {},
     "output_type": "execute_result"
    }
   ],
   "source": [
    "import cv2\n",
    "img_color = cv2.imread('dog.jpeg', cv2.IMREAD_COLOR)\n",
    "img_gray = cv2.imread('dog.jpeg', cv2.IMREAD_GRAYSCALE)\n",
    "img_unchanged = cv2.imread('dog.jpeg', cv2.IMREAD_UNCHANGED)\n",
    "\n",
    "cv2.imshow('img_color', img_color)\n",
    "cv2.imshow('img_gray', img_gray)\n",
    "cv2.imshow('img_unchanged', img_unchanged)\n",
    "\n",
    "cv2.waitKey(0)\n",
    "cv2.destroyAllWindows()\n",
    "cv2.waitKey(1)"
   ]
  },
  {
   "cell_type": "markdown",
   "id": "959ed389-b6b1-4bb2-85d9-51c79e857dc4",
   "metadata": {},
   "source": [
    "### Shape\n",
    "이미지의 height, width, channel 정보"
   ]
  },
  {
   "cell_type": "code",
   "execution_count": 5,
   "id": "0f134504-9b93-4ae6-8f7b-5be683e277f8",
   "metadata": {},
   "outputs": [
    {
     "data": {
      "text/plain": [
       "(425, 640, 3)"
      ]
     },
     "execution_count": 5,
     "metadata": {},
     "output_type": "execute_result"
    }
   ],
   "source": [
    "import cv2\n",
    "img = cv2.imread('dog.jpeg')\n",
    "img.shape # (H, W, C)"
   ]
  },
  {
   "cell_type": "markdown",
   "id": "e2be94da-dc8c-4774-9814-3fb0c4f0e091",
   "metadata": {},
   "source": [
    "## 2. 동영상 출력\n",
    "\n",
    "[사용한 동영상: cat_video](https://www.pexels.com/video/person-feeding-a-cat-7515833/)\n",
    "\n",
    "```python\n",
    "cap = cv2.VideoCapture('cat.mp4')\n",
    "cap.isOpened() # 동영상 파일이 올바로 열렸는지\n",
    "ret, frame = cap.read() # ret: 성공 여부, frame: 받아온 이미지/프레임\n",
    "cap.release() # 자원 해제\n",
    ".destroyAllWindows() # 모든 창 닫기\n",
    "\n",
    ".waitKey(ms) # ms 값에 따라 영상 재생 속도를 조절할 수 있다.\n",
    "```"
   ]
  },
  {
   "cell_type": "code",
   "execution_count": 7,
   "id": "4125e7b7-0cd0-4095-8882-24276982fc3e",
   "metadata": {},
   "outputs": [
    {
     "name": "stdout",
     "output_type": "stream",
     "text": [
      "No more frame to take.\n"
     ]
    },
    {
     "data": {
      "text/plain": [
       "-1"
      ]
     },
     "execution_count": 7,
     "metadata": {},
     "output_type": "execute_result"
    }
   ],
   "source": [
    "import cv2\n",
    "cap = cv2.VideoCapture('cat.mp4')\n",
    "\n",
    "while cap.isOpened():\n",
    "    ret, frame = cap.read()\n",
    "    if not ret:\n",
    "        print(\"No more frame to take.\")\n",
    "        break\n",
    "\n",
    "    cv2.imshow('video', frame)\n",
    "\n",
    "    if cv2.waitKey(25) == ord('q'):\n",
    "        print(\"Terminate\")\n",
    "        break\n",
    "\n",
    "cap.release()\n",
    "cv2.destroyAllWindows()\n",
    "cv2.waitKey(1)"
   ]
  },
  {
   "cell_type": "markdown",
   "id": "bff2ab51-0e51-49a5-ba5f-4a05ed40fabb",
   "metadata": {},
   "source": [
    "## 3. 카메라 출력"
   ]
  },
  {
   "cell_type": "code",
   "execution_count": 2,
   "id": "36d4c7f3-4b85-45e4-8c23-3a9f5be6b6f8",
   "metadata": {},
   "outputs": [
    {
     "name": "stderr",
     "output_type": "stream",
     "text": [
      "OpenCV: AVFoundation didn't find any attached Video Input Devices!\n",
      "OpenCV: camera failed to properly initialize!\n"
     ]
    },
    {
     "data": {
      "text/plain": [
       "-1"
      ]
     },
     "execution_count": 2,
     "metadata": {},
     "output_type": "execute_result"
    }
   ],
   "source": [
    "import cv2\n",
    "cap = cv2.VideoCapture(0) # O번째 카메라 장치 (device_id)\n",
    "\n",
    "if not cap.isOpened(): # 카메라가 잘 열리지 않는 경우\n",
    "    exit()\n",
    "\n",
    "while True:\n",
    "    ret, frame = cap.read()\n",
    "    if not ret: break\n",
    "\n",
    "    cv2.imshow(\"camera\", frame)\n",
    "    if cv2.waitKey(1) == ord('q'): break\n",
    "\n",
    "cap.release()\n",
    "cv2.destroyAllWindows()\n",
    "cv2.waitKey(1)"
   ]
  },
  {
   "cell_type": "markdown",
   "id": "b896fed5-7b47-4c52-ba58-3a4823134054",
   "metadata": {},
   "source": [
    "## 도형 그리기"
   ]
  },
  {
   "cell_type": "markdown",
   "id": "1c17c35d-d491-4b6f-a430-1173e90a8925",
   "metadata": {},
   "source": [
    "### 빈 스케치북 만들기"
   ]
  },
  {
   "cell_type": "code",
   "execution_count": 4,
   "id": "63832995-6fb4-42d7-b205-e31a2cac0956",
   "metadata": {},
   "outputs": [
    {
     "data": {
      "text/plain": [
       "-1"
      ]
     },
     "execution_count": 4,
     "metadata": {},
     "output_type": "execute_result"
    }
   ],
   "source": [
    "import cv2\n",
    "import numpy as np\n",
    "\n",
    "# (H=480, W=640, C=3)\n",
    "img = np.zeros((480, 640, 3), dtype=np.uint8)\n",
    "img[:] = (255, 255, 255)\n",
    "\n",
    "cv2.imshow(\"img\", img)\n",
    "\n",
    "cv2.waitKey(0)\n",
    "cv2.destroyAllWindows()\n",
    "cv2.waitKey(1)"
   ]
  },
  {
   "cell_type": "markdown",
   "id": "b098ff96-59c1-4b44-9069-c3ad7567ee5a",
   "metadata": {},
   "source": [
    "### 일부 영역 색칠"
   ]
  },
  {
   "cell_type": "code",
   "execution_count": 5,
   "id": "88d07d9a-f600-41ac-938e-b49795461e70",
   "metadata": {},
   "outputs": [
    {
     "data": {
      "text/plain": [
       "-1"
      ]
     },
     "execution_count": 5,
     "metadata": {},
     "output_type": "execute_result"
    }
   ],
   "source": [
    "import cv2\n",
    "import numpy as np\n",
    "\n",
    "\n",
    "img = np.zeros((480, 640, 3), dtype=np.uint8)\n",
    "img[100:200, 200:300] = (255, 255, 255)\n",
    "\n",
    "cv2.imshow(\"img\", img)\n",
    "\n",
    "cv2.waitKey(0)\n",
    "cv2.destroyAllWindows()\n",
    "cv2.waitKey(1)"
   ]
  },
  {
   "cell_type": "markdown",
   "id": "ed46c0de-9216-4691-bb08-fcb27fa819ac",
   "metadata": {},
   "source": [
    "### 직선\n",
    "직선의 종류\n",
    "1. `cv2.LINE_4` : 상하좌우 네 방향으로 연결된 선\n",
    "2. `cv2.LINE_8` : 대각선을 포함한 여덟 방향으로 연결된 선 (default)\n",
    "3. `cv2.LINE_AA` : 부드러운 선 (anti-aliasing)"
   ]
  },
  {
   "cell_type": "code",
   "execution_count": 3,
   "id": "70effa56-63d5-497b-80bc-5271317f14a6",
   "metadata": {},
   "outputs": [
    {
     "data": {
      "text/plain": [
       "-1"
      ]
     },
     "execution_count": 3,
     "metadata": {},
     "output_type": "execute_result"
    }
   ],
   "source": [
    "import cv2\n",
    "import numpy as np\n",
    "\n",
    "img = np.zeros((480, 640, 3), dtype=np.uint8)\n",
    "\n",
    "COLOR = (0, 255, 255) # BGR (Yellow)\n",
    "THICKNESS = 3\n",
    "\n",
    "\n",
    "cv2.line(img, (50, 100), (400, 50), COLOR, THICKNESS, cv2.LINE_8)\n",
    "\"\"\"\n",
    "    where_to_draw, start_point, end_point, color, thickness, line_type\n",
    "\"\"\"\n",
    "\n",
    "cv2.line(img, (50, 200), (400, 150), COLOR, THICKNESS, cv2.LINE_4)\n",
    "cv2.line(img, (50, 300), (400, 250), COLOR, THICKNESS, cv2.LINE_AA)\n",
    "\n",
    "cv2.imshow('img', img)\n",
    "cv2.waitKey(0)\n",
    "cv2.destroyAllWindows()\n",
    "cv2.waitKey(1)"
   ]
  },
  {
   "cell_type": "markdown",
   "id": "7b95456c-7834-42eb-aac2-202de9e23612",
   "metadata": {},
   "source": [
    "### 원"
   ]
  },
  {
   "cell_type": "code",
   "execution_count": 5,
   "id": "394a7031-f2cf-417a-bca6-a15f287e48f6",
   "metadata": {},
   "outputs": [
    {
     "data": {
      "text/plain": [
       "-1"
      ]
     },
     "execution_count": 5,
     "metadata": {},
     "output_type": "execute_result"
    }
   ],
   "source": [
    "import cv2\n",
    "import numpy as np\n",
    "\n",
    "img = np.zeros((480, 640, 3), dtype=np.uint8)\n",
    "\n",
    "COLOR = (255, 255, 0) # BGR (Cyan)\n",
    "RADIUS = 50\n",
    "THICKNESS = 10\n",
    "\n",
    "\n",
    "cv2.circle(img, (200, 100), RADIUS, COLOR, THICKNESS, cv2.LINE_AA) # 속이 빈 원\n",
    "\"\"\"\n",
    "    where_to_draw, center, radius, color, thickness, line_type\n",
    "\"\"\"\n",
    "cv2.circle(img, (400, 100), RADIUS, COLOR, cv2.FILLED, cv2.LINE_AA) # 속이 찬 원\n",
    "\n",
    "cv2.imshow('img', img)\n",
    "cv2.waitKey(0)\n",
    "cv2.destroyAllWindows()\n",
    "cv2.waitKey(1)"
   ]
  },
  {
   "cell_type": "markdown",
   "id": "b58ed9b8-dbf3-44ff-82d4-6c896c361326",
   "metadata": {},
   "source": [
    "### 사각형"
   ]
  },
  {
   "cell_type": "code",
   "execution_count": 23,
   "id": "1f88e906-3316-406d-949d-ee7412c20ed1",
   "metadata": {},
   "outputs": [
    {
     "data": {
      "text/plain": [
       "-1"
      ]
     },
     "execution_count": 23,
     "metadata": {},
     "output_type": "execute_result"
    }
   ],
   "source": [
    "import cv2\n",
    "import numpy as np\n",
    "\n",
    "img = np.zeros((480, 640, 3), dtype=np.uint8)\n",
    "\n",
    "COLOR = (0, 0, 255) # BGR (RED)\n",
    "THICKNESS = 3\n",
    "\n",
    "cv2.rectangle(img, (100, 200), (300, 400), COLOR, THICKNESS, cv2.LINE_AA)\n",
    "\"\"\"\n",
    "    where_to_draw, point_list, is_closed, color, thickness, line_type\n",
    "\"\"\"\n",
    "cv2.rectangle(img, (350, 200), (550, 400), COLOR, cv2.FILLED, cv2.LINE_AA)\n",
    "\n",
    "cv2.imshow('img', img)\n",
    "cv2.waitKey(0)\n",
    "cv2.destroyAllWindows()\n",
    "cv2.waitKey(1)"
   ]
  },
  {
   "cell_type": "markdown",
   "id": "521902cd-883f-42d2-b8d7-d11ace1e6280",
   "metadata": {},
   "source": [
    "### 다각형"
   ]
  },
  {
   "cell_type": "code",
   "execution_count": null,
   "id": "5fe6c45a-982c-42f7-a143-f1cffc4b158d",
   "metadata": {},
   "outputs": [],
   "source": [
    "import cv2\n",
    "import numpy as np\n",
    "\n",
    "img = np.zeros((480, 640, 3), dtype=np.uint8)\n",
    "\n",
    "COLOR = (0, 0, 255) # BGR (RED)\n",
    "THICKNESS = 3\n",
    "\n",
    "pts1 = np.array([[100, 100], [200, 100], [100, 200]])\n",
    "pts2 = np.array([[200, 100], [300, 100], [300, 200]])\n",
    "\n",
    "# cv2.polylines(img, [pts1], True, COLOR, THICKNESS, cv2.LINE_AA)\n",
    "\"\"\"\n",
    "    where_to_draw, point_list, is_closed, color, thickness, line_type\n",
    "\"\"\"\n",
    "# cv2.polylines(img, [pts2], True, COLOR, THICKNESS, cv2.LINE_AA)\n",
    "\n",
    "cv2.polylines(img, [pts1, pts2], True, COLOR, THICKNESS, cv2.LINE_AA) # 속이 빈 다각형\n",
    "\n",
    "pts3 = np.array([[[100, 300], [200, 300], [100, 400]],[[200, 300], [300, 300], [300, 400]]])\n",
    "cv2.fillPoly(img, pts3, COLOR, cv2.LINE_AA) # 속이 빈 다각형\n",
    "\"\"\"\n",
    "    where_to_draw, point_list, color, line_type\n",
    "\"\"\"\n",
    "\n",
    "cv2.imshow('img', img)\n",
    "cv2.waitKey(0)\n",
    "cv2.destroyAllWindows()\n",
    "cv2.waitKey(1)"
   ]
  },
  {
   "cell_type": "markdown",
   "id": "2c25ded5-3a79-44a2-a954-2497d9ee3e71",
   "metadata": {},
   "source": [
    "## 텍스트"
   ]
  },
  {
   "cell_type": "markdown",
   "id": "8d6ca27d-fc13-4766-b842-c1e06b292f31",
   "metadata": {},
   "source": [
    "### OpenCV에서 사용하는 글꼴 종류\n",
    "1. `cv2.FONT_HERSHEY_SIMPLEX`: 보통 크기의 sans-serif\n",
    "2. `cv2.FONT_HERSHEY_PLAIN`: 작은 크기의 sans-serif\n",
    "3. `cv2.FONT_HERSHEY_SCRIPT_SIMPLEX`: 필기체 스타일 글꼴\n",
    "4. `cv2.FONT_HERSHEY_TRIPLEX`: 보통 크기의 serif\n",
    "5. `cv2.FONT_ITALIC`: 기울임"
   ]
  },
  {
   "cell_type": "code",
   "execution_count": 28,
   "id": "303d61db-a929-44df-8362-5511fbe7fe9f",
   "metadata": {},
   "outputs": [
    {
     "data": {
      "text/plain": [
       "-1"
      ]
     },
     "execution_count": 28,
     "metadata": {},
     "output_type": "execute_result"
    }
   ],
   "source": [
    "import cv2\n",
    "import numpy as np\n",
    "\n",
    "img = np.zeros((480, 640, 3), dtype=np.uint8)\n",
    "\n",
    "SCALE = 1\n",
    "COLOR = (255, 255, 255)\n",
    "THICKNESS = 1\n",
    "\n",
    "\n",
    "cv2.putText(img, \"Simplex\", (20, 50), cv2.FONT_HERSHEY_SIMPLEX, SCALE, COLOR, THICKNESS)\n",
    "\"\"\"\n",
    "    where_to_put, input_text, start_point, font_type, scale, color, thickness\n",
    "\"\"\"\n",
    "cv2.putText(img, \"Plain\", (20, 150), cv2.FONT_HERSHEY_PLAIN, SCALE, COLOR, THICKNESS)\n",
    "cv2.putText(img, \"Script Simplex\", (20, 250), cv2.FONT_HERSHEY_SCRIPT_SIMPLEX, SCALE, COLOR, THICKNESS)\n",
    "cv2.putText(img, \"Triplex\", (20, 350), cv2.FONT_HERSHEY_TRIPLEX, SCALE, COLOR, THICKNESS)\n",
    "cv2.putText(img, \"Italic\", (20, 450), cv2.FONT_HERSHEY_TRIPLEX | cv2.FONT_ITALIC, SCALE, COLOR, THICKNESS)\n",
    "\n",
    "\n",
    "\n",
    "cv2.imshow(\"img\", img)\n",
    "\n",
    "cv2.waitKey(0)\n",
    "cv2.destroyAllWindows()\n",
    "cv2.waitKey(1)"
   ]
  },
  {
   "cell_type": "markdown",
   "id": "d6917559-cf0a-4b6b-a97e-c56b2e9b4362",
   "metadata": {},
   "source": [
    "### 한글 우회 방법\n",
    "OpenCV에서는 한글을 지원하지 않는다. 대신 PIL 라이브러리로 우회할 수 있다."
   ]
  },
  {
   "cell_type": "code",
   "execution_count": 35,
   "id": "cf6adae7-717d-4fd4-8720-2e91ddf5549d",
   "metadata": {},
   "outputs": [
    {
     "name": "stdout",
     "output_type": "stream",
     "text": [
      "Collecting pillow\n",
      "  Downloading Pillow-10.0.1-cp39-cp39-macosx_11_0_arm64.whl (3.3 MB)\n",
      "\u001b[K     |████████████████████████████████| 3.3 MB 10.8 MB/s eta 0:00:01\n",
      "\u001b[?25hInstalling collected packages: pillow\n",
      "Successfully installed pillow-10.0.1\n",
      "\u001b[33mWARNING: You are using pip version 21.2.4; however, version 23.2.1 is available.\n",
      "You should consider upgrading via the '/Users/kisookim/Repositories/opencv-inflearn/opencv/bin/python3 -m pip install --upgrade pip' command.\u001b[0m\n"
     ]
    }
   ],
   "source": [
    "!pip install pillow"
   ]
  },
  {
   "cell_type": "code",
   "execution_count": null,
   "id": "401ff63f-cc40-43cc-a800-fd7dc71dc5f5",
   "metadata": {},
   "outputs": [],
   "source": [
    "!curl https://www.wfonts.com/download/data/2016/06/13/malgun-gothic/malgun-gothic.zip --output malgun-gothic.zip"
   ]
  },
  {
   "cell_type": "code",
   "execution_count": null,
   "id": "e1da2b15-4bca-40d0-ac16-fa845af41bdf",
   "metadata": {},
   "outputs": [],
   "source": [
    "import cv2\n",
    "import numpy as np\n",
    "# PIL (python image library)\n",
    "from PIL import ImageFont, ImageDraw, Image\n",
    "\n",
    "def myPutText(src, text, pos, font_size, font_color):\n",
    "    img_pil = Image.fromarray(src)\n",
    "    draw = ImageDraw.Draw(img_pil)\n",
    "    font = ImageFont.truetype('/Users/kisookim/Repositories/opencv-inflearn/malgun-gothic/malgun.ttf', font_size)\n",
    "    draw.text(pos, text, font=font, fill=font_color)\n",
    "    return np.array(img_pil)\n",
    "\n",
    "img = np.zeros((480, 640, 3), dtype=np.uint8)\n",
    "\n",
    "FONT_SIZE = 30\n",
    "COLOR = (255, 255, 255)\n",
    "\n",
    "img = myPutText(img, \"테스트다\", (20, 50), FONT_SIZE, COLOR)\n",
    "\n",
    "cv2.imshow(\"img\", img)\n",
    "\n",
    "cv2.waitKey(0)\n",
    "cv2.destroyAllWindows()\n",
    "cv2.waitKey(1)"
   ]
  },
  {
   "cell_type": "markdown",
   "id": "070be5ce-48c5-4d90-8885-c18352bbd873",
   "metadata": {},
   "source": [
    "## 파일 저장"
   ]
  },
  {
   "cell_type": "markdown",
   "id": "6f42f6d0-2655-4d2b-ba1b-e017e95b9550",
   "metadata": {},
   "source": [
    "### 이미지 저장"
   ]
  },
  {
   "cell_type": "code",
   "execution_count": 3,
   "id": "6a648056-2525-4da1-93be-e8a3ef10f65d",
   "metadata": {},
   "outputs": [
    {
     "data": {
      "text/plain": [
       "True"
      ]
     },
     "execution_count": 3,
     "metadata": {},
     "output_type": "execute_result"
    }
   ],
   "source": [
    "import cv2\n",
    "img = cv2.imread('dog.jpeg', cv2.IMREAD_GRAYSCALE)\n",
    "cv2.imwrite('dog_save.png', img)"
   ]
  },
  {
   "cell_type": "markdown",
   "id": "ddff2c86-c359-4b59-8270-c1606dfb67c3",
   "metadata": {},
   "source": [
    "### 동영상 저장"
   ]
  },
  {
   "cell_type": "code",
   "execution_count": 6,
   "id": "62a2f0cb-54a2-40de-ab6b-4cbe1551d9c7",
   "metadata": {},
   "outputs": [
    {
     "name": "stdout",
     "output_type": "stream",
     "text": [
      "DIVX\n",
      "D I V X\n",
      "['DIVX']\n",
      "['D', 'I', 'V', 'X']\n"
     ]
    }
   ],
   "source": [
    "codec = 'DIVX'\n",
    "print(codec)\n",
    "print(*codec)\n",
    "print([codec])\n",
    "print([*codec])"
   ]
  },
  {
   "cell_type": "code",
   "execution_count": 7,
   "id": "cc28f248-ea19-4c56-a5e4-f63f58f8b29d",
   "metadata": {},
   "outputs": [
    {
     "data": {
      "text/plain": [
       "-1"
      ]
     },
     "execution_count": 7,
     "metadata": {},
     "output_type": "execute_result"
    }
   ],
   "source": [
    "import cv2\n",
    "cap = cv2.VideoCapture('cat.mp4')\n",
    "\n",
    "# Codec 정의\n",
    "# fourcc = cv2.VideoWriter_fourcc('D', 'I', 'V', 'X')\n",
    "fourcc = cv2.VideoWriter_fourcc(*'DIVX') # SAME\n",
    "\n",
    "# width, height, fps\n",
    "N = 1\n",
    "width = round(cap.get(cv2.CAP_PROP_FRAME_WIDTH))\n",
    "height = round(cap.get(cv2.CAP_PROP_FRAME_HEIGHT))\n",
    "fps = cap.get(cv2.CAP_PROP_FPS) * N # 영상 재생 속도가 N배\n",
    "\n",
    "out = cv2.VideoWriter('output.avi', fourcc, fps, (width, height))\n",
    "\n",
    "\"\"\"\n",
    "    output_name, codec, fps, size (width, height)\n",
    "\"\"\"\n",
    "\n",
    "while cap.isOpened():\n",
    "    ret, frame = cap.read()\n",
    "\n",
    "    if not ret: break\n",
    "\n",
    "    out.write(frame) # 영상 데이터만 저장되며, 소리는 없음\n",
    "    cv2.imshow('video', frame)\n",
    "    if cv2.waitKey(1) == ord('q'): break\n",
    "\n",
    "out.release()\n",
    "cap.release()\n",
    "cv2.destroyAllWindows()\n",
    "cv2.waitKey(1)"
   ]
  },
  {
   "cell_type": "markdown",
   "id": "f1a66be7-4540-4ee5-ac35-eb1e587bdb95",
   "metadata": {},
   "source": [
    "## 크기 조정"
   ]
  },
  {
   "cell_type": "markdown",
   "id": "184a31b3-6d26-4fad-9ade-da0210186154",
   "metadata": {},
   "source": [
    "### 이미지"
   ]
  },
  {
   "cell_type": "code",
   "execution_count": 8,
   "id": "a08c07d9-1c8a-4d15-89b2-2625468812cd",
   "metadata": {},
   "outputs": [
    {
     "data": {
      "text/plain": [
       "-1"
      ]
     },
     "execution_count": 8,
     "metadata": {},
     "output_type": "execute_result"
    }
   ],
   "source": [
    "# 고정 크기로 설정\n",
    "import cv2\n",
    "img = cv2.imread('dog.jpeg')\n",
    "dst = cv2.resize(img, (400, 500))\n",
    "\n",
    "cv2.imshow('img', img)\n",
    "cv2.imshow('resize', dst)\n",
    "cv2.waitKey(0)\n",
    "cv2.destroyAllWindows()\n",
    "cv2.waitKey(1)"
   ]
  },
  {
   "cell_type": "code",
   "execution_count": 9,
   "id": "e47c92f4-d36c-4cb3-975d-1de872bfb7b9",
   "metadata": {},
   "outputs": [
    {
     "data": {
      "text/plain": [
       "-1"
      ]
     },
     "execution_count": 9,
     "metadata": {},
     "output_type": "execute_result"
    }
   ],
   "source": [
    "# 비율로 설정\n",
    "import cv2\n",
    "img = cv2.imread('dog.jpeg')\n",
    "dst = cv2.resize(img, None, fx=.5, fy=.5) # x, y 비율을 정의 (.5배로 축소)\n",
    "\n",
    "cv2.imshow('img', img)\n",
    "cv2.imshow('resize', dst)\n",
    "cv2.waitKey(0)\n",
    "cv2.destroyAllWindows()\n",
    "cv2.waitKey(1)"
   ]
  },
  {
   "cell_type": "markdown",
   "id": "8591a400-57b1-4068-b852-fe96cdbe3e61",
   "metadata": {},
   "source": [
    "### 보간법\n",
    "1. `cv2.INTER_AREA`: 크기 줄일 때\n",
    "2. `cv2.INTER_CUBIC`: 크기 늘릴 때 (저속, 고퀄)\n",
    "3. `cv2.INTER_LINEAR`: 크기 늘릴 때 (default)"
   ]
  },
  {
   "cell_type": "code",
   "execution_count": null,
   "id": "8e65c8af-be0e-4776-bd57-99da5789bbb9",
   "metadata": {},
   "outputs": [],
   "source": [
    "# 보간법 적용하여 축소\n",
    "import cv2\n",
    "img = cv2.imread('dog.jpeg')\n",
    "dst = cv2.resize(img, None, fx=.5, fy=.5, interpolation=cv2.INTER_AREA)\n",
    "\n",
    "cv2.imshow('img', img)\n",
    "cv2.imshow('resize', dst)\n",
    "cv2.waitKey(0)\n",
    "cv2.destroyAllWindows()\n",
    "cv2.waitKey(1)"
   ]
  },
  {
   "cell_type": "code",
   "execution_count": null,
   "id": "75c15620-7c04-4f1e-a522-20b345141e43",
   "metadata": {},
   "outputs": [],
   "source": [
    "# 보간법 적용하여 확대\n",
    "import cv2\n",
    "img = cv2.imread('dog.jpeg')\n",
    "dst = cv2.resize(img, None, fx=1.5, fy=1.5, interpolation=cv2.INTER_CUBIC)\n",
    "\n",
    "cv2.imshow('img', img)\n",
    "cv2.imshow('resize', dst)\n",
    "cv2.waitKey(0)\n",
    "cv2.destroyAllWindows()\n",
    "cv2.waitKey(1)"
   ]
  },
  {
   "cell_type": "markdown",
   "id": "b79d74bd-e325-4e8a-ab0b-5d895b7d7d58",
   "metadata": {},
   "source": [
    "### 동영상"
   ]
  },
  {
   "cell_type": "code",
   "execution_count": 4,
   "id": "bb90a5e3-2a17-4d59-9c15-cebcfece3d8c",
   "metadata": {},
   "outputs": [
    {
     "data": {
      "text/plain": [
       "-1"
      ]
     },
     "execution_count": 4,
     "metadata": {},
     "output_type": "execute_result"
    }
   ],
   "source": [
    "# 고정 크기로 설정\n",
    "import cv2\n",
    "\n",
    "cap = cv2.VideoCapture('cat.mp4')\n",
    "\n",
    "while cap.isOpened():\n",
    "    ret, frame = cap.read()\n",
    "    if not ret: break\n",
    "\n",
    "    frame_resized = cv2.resize(frame, (400, 500))\n",
    "\n",
    "    cv2.imshow('video', frame_resized)\n",
    "    if cv2.waitKey(1) == ord('q'): break\n",
    "\n",
    "cap.release()\n",
    "cv2.destroyAllWindows()\n",
    "cv2.waitKey(1)"
   ]
  },
  {
   "cell_type": "code",
   "execution_count": 5,
   "id": "2dcd2bc7-e831-457d-b227-23e08613dfc1",
   "metadata": {},
   "outputs": [
    {
     "data": {
      "text/plain": [
       "-1"
      ]
     },
     "execution_count": 5,
     "metadata": {},
     "output_type": "execute_result"
    }
   ],
   "source": [
    "# 비율로 설정\n",
    "import cv2\n",
    "\n",
    "cap = cv2.VideoCapture('cat.mp4')\n",
    "\n",
    "while cap.isOpened():\n",
    "    ret, frame = cap.read()\n",
    "    if not ret: break\n",
    "\n",
    "    frame_resized = cv2.resize(frame, None, fx=1.5, fy=1.5, interpolation=cv2.INTER_CUBIC)\n",
    "\n",
    "    cv2.imshow('video', frame_resized)\n",
    "    if cv2.waitKey(1) == ord('q'): break\n",
    "\n",
    "cap.release()\n",
    "cv2.destroyAllWindows()\n",
    "cv2.waitKey(1)"
   ]
  },
  {
   "cell_type": "markdown",
   "id": "56b833cc-2efd-4f35-9c37-06cf5b946b66",
   "metadata": {},
   "source": [
    "### 이미지 자르기"
   ]
  },
  {
   "cell_type": "code",
   "execution_count": 7,
   "id": "92fc5a3c-fa9a-4d47-a438-81e2399f8469",
   "metadata": {},
   "outputs": [
    {
     "data": {
      "text/plain": [
       "-1"
      ]
     },
     "execution_count": 7,
     "metadata": {},
     "output_type": "execute_result"
    }
   ],
   "source": [
    "# 영역을 잘라서 새로운 윈도우에 표시\n",
    "import cv2\n",
    "img = cv2.imread('dog.jpeg')\n",
    "crop = img[100:200, 200:400]\n",
    "\n",
    "cv2.imshow('img', img)\n",
    "cv2.imshow('crop', crop)\n",
    "\n",
    "cv2.waitKey(0)\n",
    "cv2.destroyAllWindows()\n",
    "cv2.waitKey(1)"
   ]
  },
  {
   "cell_type": "code",
   "execution_count": 8,
   "id": "5f389da6-c592-4571-add4-808952e3f39d",
   "metadata": {},
   "outputs": [
    {
     "data": {
      "text/plain": [
       "-1"
      ]
     },
     "execution_count": 8,
     "metadata": {},
     "output_type": "execute_result"
    }
   ],
   "source": [
    "# 영역을 잘라서 기존 윈도우에 표시\n",
    "import cv2\n",
    "img = cv2.imread('dog.jpeg')\n",
    "crop = img[100:200, 200:400]\n",
    "\n",
    "img[100:200, 400:600] = crop\n",
    "\n",
    "cv2.imshow('img', img)\n",
    "\n",
    "cv2.waitKey(0)\n",
    "cv2.destroyAllWindows()\n",
    "cv2.waitKey(1)"
   ]
  },
  {
   "cell_type": "markdown",
   "id": "3f9ade73-30ac-4fcf-9844-c175e87be9a2",
   "metadata": {},
   "source": [
    "### 좌우 대칭"
   ]
  },
  {
   "cell_type": "code",
   "execution_count": 10,
   "id": "44365743-6b21-40a7-83ed-f8c4d74639a7",
   "metadata": {},
   "outputs": [
    {
     "data": {
      "text/plain": [
       "-1"
      ]
     },
     "execution_count": 10,
     "metadata": {},
     "output_type": "execute_result"
    }
   ],
   "source": [
    "import cv2\n",
    "img = cv2.imread('dog.jpeg')\n",
    "flip_horizontal = cv2.flip(img, 1) # flipCode > 0: horizontal\n",
    "\n",
    "cv2.imshow('img', img)\n",
    "cv2.imshow('flip_horizontal', flip_horizontal)\n",
    "cv2.waitKey(0)\n",
    "cv2.destroyAllWindows()\n",
    "cv2.waitKey(1)"
   ]
  },
  {
   "cell_type": "markdown",
   "id": "f12ea1be-b776-413f-9ccf-30a7e4ce95d1",
   "metadata": {},
   "source": [
    "### 상하 대칭"
   ]
  },
  {
   "cell_type": "code",
   "execution_count": 11,
   "id": "6846babb-d49f-4e9f-83d5-57e8457344a9",
   "metadata": {},
   "outputs": [
    {
     "data": {
      "text/plain": [
       "-1"
      ]
     },
     "execution_count": 11,
     "metadata": {},
     "output_type": "execute_result"
    }
   ],
   "source": [
    "import cv2\n",
    "img = cv2.imread('dog.jpeg')\n",
    "flip_vertical = cv2.flip(img, 0) # flipCode == 0: vertical\n",
    "\n",
    "cv2.imshow('img', img)\n",
    "cv2.imshow('flip_vertical', flip_vertical)\n",
    "cv2.waitKey(0)\n",
    "cv2.destroyAllWindows()\n",
    "cv2.waitKey(1)"
   ]
  },
  {
   "cell_type": "markdown",
   "id": "78e98d8e-cadd-446a-90f5-449c5030877e",
   "metadata": {},
   "source": [
    "### 상하좌우 대칭"
   ]
  },
  {
   "cell_type": "code",
   "execution_count": 12,
   "id": "701ac758-7170-4f24-a7df-7615767ca74d",
   "metadata": {},
   "outputs": [
    {
     "data": {
      "text/plain": [
       "-1"
      ]
     },
     "execution_count": 12,
     "metadata": {},
     "output_type": "execute_result"
    }
   ],
   "source": [
    "import cv2\n",
    "img = cv2.imread('dog.jpeg')\n",
    "flip_both = cv2.flip(img, -1) # flipCode < 0: 상하좌우 대칭\n",
    "\n",
    "cv2.imshow('img', img)\n",
    "cv2.imshow('flip_both', flip_both)\n",
    "cv2.waitKey(0)\n",
    "cv2.destroyAllWindows()\n",
    "cv2.waitKey(1)"
   ]
  },
  {
   "cell_type": "markdown",
   "id": "ef651df4-99a5-4024-9f53-5f45b2508510",
   "metadata": {},
   "source": [
    "## 이미지 회전"
   ]
  },
  {
   "cell_type": "code",
   "execution_count": 14,
   "id": "3bcd50a6-a03b-4cea-b4f2-55429b3a16c6",
   "metadata": {},
   "outputs": [
    {
     "data": {
      "text/plain": [
       "-1"
      ]
     },
     "execution_count": 14,
     "metadata": {},
     "output_type": "execute_result"
    }
   ],
   "source": [
    "# 시계 방향 90 deg 회전\n",
    "import cv2\n",
    "img = cv2.imread('dog.jpeg')\n",
    "\n",
    "rotate_90 = cv2.rotate(img, cv2.ROTATE_90_CLOCKWISE)\n",
    "\n",
    "cv2.imshow('img', img)\n",
    "cv2.imshow('rotate_90', rotate_90)\n",
    "\n",
    "cv2.waitKey(0)\n",
    "cv2.destroyAllWindows()\n",
    "cv2.waitKey(1)"
   ]
  },
  {
   "cell_type": "code",
   "execution_count": 15,
   "id": "d75bf67d-d8b9-49de-baac-e21829ba4384",
   "metadata": {},
   "outputs": [
    {
     "data": {
      "text/plain": [
       "-1"
      ]
     },
     "execution_count": 15,
     "metadata": {},
     "output_type": "execute_result"
    }
   ],
   "source": [
    "# 시계 방향 180 deg 회전\n",
    "import cv2\n",
    "img = cv2.imread('dog.jpeg')\n",
    "\n",
    "rotate_180 = cv2.rotate(img, cv2.ROTATE_180)\n",
    "\n",
    "cv2.imshow('img', img)\n",
    "cv2.imshow('rotate_180', rotate_180)\n",
    "\n",
    "cv2.waitKey(0)\n",
    "cv2.destroyAllWindows()\n",
    "cv2.waitKey(1)"
   ]
  },
  {
   "cell_type": "code",
   "execution_count": 16,
   "id": "f22ffb44-7b0a-4484-a5e4-86c17df6f5db",
   "metadata": {},
   "outputs": [
    {
     "data": {
      "text/plain": [
       "-1"
      ]
     },
     "execution_count": 16,
     "metadata": {},
     "output_type": "execute_result"
    }
   ],
   "source": [
    "# 시계 반대 방향 90 deg 회전\n",
    "import cv2\n",
    "img = cv2.imread('dog.jpeg')\n",
    "\n",
    "rotate_270 = cv2.rotate(img, cv2.ROTATE_90_COUNTERCLOCKWISE)\n",
    "\n",
    "cv2.imshow('img', img)\n",
    "cv2.imshow('rotate_270', rotate_270)\n",
    "\n",
    "cv2.waitKey(0)\n",
    "cv2.destroyAllWindows()\n",
    "cv2.waitKey(1)"
   ]
  },
  {
   "cell_type": "markdown",
   "id": "c6c6600d-0771-4596-bd13-113fc766d76b",
   "metadata": {},
   "source": [
    "## 이미지 변형"
   ]
  },
  {
   "cell_type": "markdown",
   "id": "a577bc1f-e637-458d-a22b-5aa98e11e76a",
   "metadata": {},
   "source": [
    "### 흑백"
   ]
  },
  {
   "cell_type": "code",
   "execution_count": null,
   "id": "046f4cd1-cb75-4f40-b196-ac2d51d18e6d",
   "metadata": {},
   "outputs": [],
   "source": [
    "# 이미지를 흑백으로 읽음\n",
    "import cv2\n",
    "img = cv2.imread('dog.jpeg', cv2.IMREAD_GRAYSCALE)\n",
    "cv2.imshow('img', img)\n",
    "cv2.waitKey(0)\n",
    "cv2.destroyAllWindows()\n",
    "cv2.waitKey(1)"
   ]
  },
  {
   "cell_type": "code",
   "execution_count": 17,
   "id": "59e86e04-2198-4dfe-8aab-52acbc0ccba9",
   "metadata": {},
   "outputs": [
    {
     "data": {
      "text/plain": [
       "-1"
      ]
     },
     "execution_count": 17,
     "metadata": {},
     "output_type": "execute_result"
    }
   ],
   "source": [
    "# 불러온 이미지를 흑백으로 변경\n",
    "import cv2\n",
    "img = cv2.imread('dog.jpeg')\n",
    "\n",
    "dst = cv2.cvtColor(img, cv2.COLOR_BGR2GRAY)\n",
    "\n",
    "cv2.imshow('img', img)\n",
    "cv2.imshow('gray', dst)\n",
    "cv2.waitKey(0)\n",
    "cv2.destroyAllWindows()\n",
    "cv2.waitKey(1)"
   ]
  },
  {
   "cell_type": "markdown",
   "id": "64985123-4916-4645-bd2f-c5abf7128a3b",
   "metadata": {},
   "source": [
    "### 흐림\n",
    "\n",
    "Gaussian Blur"
   ]
  },
  {
   "cell_type": "code",
   "execution_count": 18,
   "id": "3d6e99ef-1e77-4d96-a798-d8d45c0b9e7a",
   "metadata": {},
   "outputs": [
    {
     "data": {
      "text/plain": [
       "-1"
      ]
     },
     "execution_count": 18,
     "metadata": {},
     "output_type": "execute_result"
    }
   ],
   "source": [
    "# 커널 사이즈 변화에 따른 흐림\n",
    "import cv2\n",
    "img = cv2.imread('dog.jpeg')\n",
    "\n",
    "# (3, 3), (5, 5), (7, 7)\n",
    "kernel_3 = cv2.GaussianBlur(img, (3, 3), 0) # sigma_x = 0 (automatic)\n",
    "kernel_5 = cv2.GaussianBlur(img, (5, 5), 0) \n",
    "kernel_7 = cv2.GaussianBlur(img, (7, 7), 0) \n",
    "\n",
    "cv2.imshow('img', img)\n",
    "cv2.imshow('kernel3', kernel_3)\n",
    "cv2.imshow('kernel5', kernel_5)\n",
    "cv2.imshow('kernel7', kernel_7)\n",
    "\n",
    "cv2.waitKey(0)\n",
    "cv2.destroyAllWindows()\n",
    "cv2.waitKey(1)"
   ]
  },
  {
   "cell_type": "code",
   "execution_count": 19,
   "id": "6be9bcdc-9c19-40cd-976d-a412dd54a89d",
   "metadata": {},
   "outputs": [
    {
     "data": {
      "text/plain": [
       "-1"
      ]
     },
     "execution_count": 19,
     "metadata": {},
     "output_type": "execute_result"
    }
   ],
   "source": [
    "# 표준 편차 변화에 따른 흐림\n",
    "import cv2\n",
    "img = cv2.imread('dog.jpeg')\n",
    "\n",
    "sigma_1 = cv2.GaussianBlur(img, (0, 0), 1) # sigma_x = 가우시안 커널의 x 방향의 표준 편차\n",
    "sigma_2 = cv2.GaussianBlur(img, (0, 0), 2) \n",
    "sigma_3 = cv2.GaussianBlur(img, (0, 0), 3) \n",
    "\n",
    "cv2.imshow('img', img)\n",
    "cv2.imshow('sigma1', sigma_1)\n",
    "cv2.imshow('sigma2', sigma_2)\n",
    "cv2.imshow('sigma3', sigma_3)\n",
    "\n",
    "cv2.waitKey(0)\n",
    "cv2.destroyAllWindows()\n",
    "cv2.waitKey(1)"
   ]
  },
  {
   "cell_type": "markdown",
   "id": "d3d44730-5e5d-4e6f-9d53-9ea17514cabb",
   "metadata": {},
   "source": [
    "### 원근\n",
    "[신문 이미지](https://pixabay.com/photos/old-newspaper-newspaper-retro-sepia-350376/)\n",
    "\n",
    "[포커 카드 이미지](https://pixabay.com/photos/poker-cards-casino-gambling-game-682332/)"
   ]
  },
  {
   "cell_type": "code",
   "execution_count": 25,
   "id": "9a3e3019-b9bf-4561-8951-bdc826d64809",
   "metadata": {},
   "outputs": [
    {
     "data": {
      "text/plain": [
       "-1"
      ]
     },
     "execution_count": 25,
     "metadata": {},
     "output_type": "execute_result"
    }
   ],
   "source": [
    "# 사다리꼴 이미지 펼치기\n",
    "import cv2\n",
    "import numpy as np\n",
    "\n",
    "img = cv2.imread('newspapers.jpeg')\n",
    "\n",
    "width, height = 640, 240\n",
    "\n",
    "\n",
    "src = np.array([[511, 352], [1008, 345], [1122, 584], [455, 594]], dtype=np.float32) # input 4개 지점\n",
    "dst = np.array([[0, 0], [width, 0], [width, height], [0, height]], dtype=np.float32) # output 4개 지점\n",
    "# 좌상, 우상, 우하, 좌하 (시계 방향으로 네 지점을 정의)\n",
    "\n",
    "matrix = cv2.getPerspectiveTransform(src, dst) # transform-matrix를 얻어옴\n",
    "result = cv2.warpPerspective(img, matrix, (width, height)) # matrix 대로 변환을 함\n",
    "\n",
    "\n",
    "cv2.imshow('img', img)\n",
    "cv2.imshow('result', result)\n",
    "cv2.waitKey(0)\n",
    "cv2.destroyAllWindows()\n",
    "cv2.waitKey(1)"
   ]
  },
  {
   "cell_type": "code",
   "execution_count": 27,
   "id": "69f9635c-7b7f-40ff-938e-5b3c6395995c",
   "metadata": {},
   "outputs": [
    {
     "data": {
      "text/plain": [
       "-1"
      ]
     },
     "execution_count": 27,
     "metadata": {},
     "output_type": "execute_result"
    }
   ],
   "source": [
    "# 회전된 이미지 올바로 세우기\n",
    "import cv2\n",
    "import numpy as np\n",
    "\n",
    "img = cv2.imread('poker.jpeg')\n",
    "\n",
    "width, height = 530, 710\n",
    "\n",
    "src = np.array([[702, 143], [1133, 414], [726, 1007], [276, 700]], dtype=np.float32) # input 4개 지점\n",
    "dst = np.array([[0, 0], [width, 0], [width, height], [0, height]], dtype=np.float32) # output 4개 지점\n",
    "# 좌상, 우상, 우하, 좌하 (시계 방향으로 네 지점을 정의)\n",
    "\n",
    "matrix = cv2.getPerspectiveTransform(src, dst) # transform-matrix를 얻어옴\n",
    "result = cv2.warpPerspective(img, matrix, (width, height)) # matrix 대로 변환을 함\n",
    "\n",
    "cv2.imshow('img', img)\n",
    "cv2.imshow('result', result)\n",
    "cv2.waitKey(0)\n",
    "cv2.destroyAllWindows()\n",
    "cv2.waitKey(1)"
   ]
  }
 ],
 "metadata": {
  "kernelspec": {
   "display_name": "Python 3 (ipykernel)",
   "language": "python",
   "name": "python3"
  },
  "language_info": {
   "codemirror_mode": {
    "name": "ipython",
    "version": 3
   },
   "file_extension": ".py",
   "mimetype": "text/x-python",
   "name": "python",
   "nbconvert_exporter": "python",
   "pygments_lexer": "ipython3",
   "version": "3.9.6"
  }
 },
 "nbformat": 4,
 "nbformat_minor": 5
}
